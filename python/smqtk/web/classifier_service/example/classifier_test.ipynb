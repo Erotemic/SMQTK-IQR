{
 "cells": [
  {
   "cell_type": "code",
   "execution_count": 1,
   "metadata": {
    "collapsed": true
   },
   "outputs": [],
   "source": [
    "from smqtk.web.classifier_service import SmqtkClassifierService\n",
    "\n",
    "import json\n",
    "import os\n",
    "\n",
    "from six.moves import cPickle as pickle\n",
    "\n",
    "os.environ.update(\n",
    "    CLASSIFIER_PATH='dummy_classifier',\n",
    "    DESCRIPTOR_GENERATOR_PATH='dummy_descriptor_generator',\n",
    ")"
   ]
  },
  {
   "cell_type": "code",
   "execution_count": 2,
   "metadata": {
    "collapsed": false
   },
   "outputs": [
    {
     "name": "stderr",
     "output_type": "stream",
     "text": [
      "No handlers could be found for logger \"smqtk.representation.classification_element.postgres.PostgresClassificationElement\"\n"
     ]
    },
    {
     "name": "stdout",
     "output_type": "stream",
     "text": [
      "{\n",
      "  \"classification_factory\": {\n",
      "    \"MemoryClassificationElement\": {}, \n",
      "    \"type\": \"MemoryClassificationElement\"\n",
      "  }, \n",
      "  \"classifier_collection\": {\n",
      "    \"dummy\": {\n",
      "      \"DummyClassifier\": {}, \n",
      "      \"type\": \"DummyClassifier\"\n",
      "    }\n",
      "  }, \n",
      "  \"descriptor_factory\": {\n",
      "    \"DescriptorMemoryElement\": {}, \n",
      "    \"type\": \"DescriptorMemoryElement\"\n",
      "  }, \n",
      "  \"descriptor_generator\": {\n",
      "    \"DummyDescriptorGenerator\": {}, \n",
      "    \"type\": \"DummyDescriptorGenerator\"\n",
      "  }, \n",
      "  \"enable_classifier_removal\": true, \n",
      "  \"flask_app\": {\n",
      "    \"BASIC_AUTH_PASSWORD\": \"demo\", \n",
      "    \"BASIC_AUTH_USERNAME\": \"demo\", \n",
      "    \"SECRET_KEY\": \"MySuperUltraSecret\"\n",
      "  }, \n",
      "  \"immutable_labels\": [\n",
      "    \"dummy\"\n",
      "  ], \n",
      "  \"iqr_state_classifier_config\": {\n",
      "    \"LibSvmClassifier\": {\n",
      "      \"normalize\": null, \n",
      "      \"svm_label_map_uri\": null, \n",
      "      \"svm_model_uri\": null, \n",
      "      \"train_params\": {\n",
      "        \"-b\": 1, \n",
      "        \"-c\": 2, \n",
      "        \"-s\": 0, \n",
      "        \"-t\": 0\n",
      "      }\n",
      "    }, \n",
      "    \"type\": \"LibSvmClassifier\"\n",
      "  }, \n",
      "  \"server\": {\n",
      "    \"host\": \"127.0.0.1\", \n",
      "    \"port\": 5000\n",
      "  }\n",
      "}\n"
     ]
    }
   ],
   "source": [
    "default_config = SmqtkClassifierService.get_default_config()\n",
    "def_conf_json = json.dumps(default_config, sort_keys=True, indent=2)\n",
    "# print(def_conf_json)\n",
    "config = json.loads(def_conf_json)\n",
    "\n",
    "config['classification_factory']['type'] = 'MemoryClassificationElement'\n",
    "del config['classification_factory']['FileClassificationElement']\n",
    "del config['classifier_collection']['__example_label__']\n",
    "config['classifier_collection']['dummy'] = dict(DummyClassifier={}, type='DummyClassifier')\n",
    "config['immutable_labels'] = ['dummy']\n",
    "config['descriptor_factory']['type'] = 'DescriptorMemoryElement'\n",
    "config['descriptor_generator'] = dict(DummyDescriptorGenerator={}, type='DummyDescriptorGenerator')\n",
    "del config['descriptor_factory']['DescriptorFileElement']\n",
    "config['iqr_state_classifier_config']['type'] = 'LibSvmClassifier'\n",
    "\n",
    "config['enable_classifier_removal'] = True\n",
    "\n",
    "print(json.dumps(config, sort_keys=True, indent=2))"
   ]
  },
  {
   "cell_type": "code",
   "execution_count": 3,
   "metadata": {
    "collapsed": false
   },
   "outputs": [
    {
     "name": "stderr",
     "output_type": "stream",
     "text": [
      " * Running on http://127.0.0.1:5000/ (Press CTRL+C to quit)\n",
      "127.0.0.1 - - [25/Oct/2017 11:20:18] \"GET /is_ready HTTP/1.1\" 200 -\n",
      "127.0.0.1 - - [25/Oct/2017 11:20:18] \"GET /classifier_labels HTTP/1.1\" 200 -\n",
      "127.0.0.1 - - [25/Oct/2017 11:20:18] \"POST /classify HTTP/1.1\" 200 -\n",
      "127.0.0.1 - - [25/Oct/2017 11:20:18] \"POST /classifier HTTP/1.1\" 400 -\n",
      "127.0.0.1 - - [25/Oct/2017 11:20:18] \"GET /classifier_labels HTTP/1.1\" 200 -\n",
      "127.0.0.1 - - [25/Oct/2017 11:20:18] \"POST /classify HTTP/1.1\" 200 -\n",
      "127.0.0.1 - - [25/Oct/2017 11:20:18] \"DELETE /classifier HTTP/1.1\" 405 -\n",
      "127.0.0.1 - - [25/Oct/2017 11:20:18] \"GET /classifier_labels HTTP/1.1\" 200 -\n",
      "127.0.0.1 - - [25/Oct/2017 11:20:19] \"POST /classify HTTP/1.1\" 200 -\n",
      "127.0.0.1 - - [25/Oct/2017 11:20:19] \"POST /classifier HTTP/1.1\" 201 -\n",
      "127.0.0.1 - - [25/Oct/2017 11:20:19] \"GET /classifier_labels HTTP/1.1\" 200 -\n",
      "127.0.0.1 - - [25/Oct/2017 11:20:19] \"POST /classify HTTP/1.1\" 200 -\n",
      "127.0.0.1 - - [25/Oct/2017 11:20:19] \"DELETE /classifier HTTP/1.1\" 200 -\n",
      "127.0.0.1 - - [25/Oct/2017 11:20:19] \"GET /classifier_labels HTTP/1.1\" 200 -\n",
      "127.0.0.1 - - [25/Oct/2017 11:20:19] \"POST /classify HTTP/1.1\" 200 -\n",
      "127.0.0.1 - - [25/Oct/2017 11:20:19] \"POST /classifier HTTP/1.1\" 201 -\n",
      "127.0.0.1 - - [25/Oct/2017 11:20:19] \"GET /classifier_labels HTTP/1.1\" 200 -\n",
      "127.0.0.1 - - [25/Oct/2017 11:20:19] \"POST /classify HTTP/1.1\" 200 -\n",
      "127.0.0.1 - - [25/Oct/2017 11:20:19] \"POST /classifier HTTP/1.1\" 400 -\n",
      "127.0.0.1 - - [25/Oct/2017 11:20:19] \"GET /classifier_labels HTTP/1.1\" 200 -\n",
      "127.0.0.1 - - [25/Oct/2017 11:20:19] \"POST /classify HTTP/1.1\" 200 -\n",
      "127.0.0.1 - - [25/Oct/2017 11:20:19] \"DELETE /classifier HTTP/1.1\" 405 -\n",
      "127.0.0.1 - - [25/Oct/2017 11:20:19] \"GET /classifier_labels HTTP/1.1\" 200 -\n",
      "127.0.0.1 - - [25/Oct/2017 11:20:19] \"POST /classify HTTP/1.1\" 200 -\n",
      "127.0.0.1 - - [25/Oct/2017 11:20:19] \"GET /classifier HTTP/1.1\" 200 -\n",
      "127.0.0.1 - - [25/Oct/2017 11:20:19] \"GET /classifier_labels HTTP/1.1\" 200 -\n",
      "127.0.0.1 - - [25/Oct/2017 11:20:19] \"POST /classify HTTP/1.1\" 200 -\n",
      "127.0.0.1 - - [25/Oct/2017 11:20:19] \"POST /classifier HTTP/1.1\" 201 -\n",
      "127.0.0.1 - - [25/Oct/2017 11:20:19] \"GET /classifier_labels HTTP/1.1\" 200 -\n",
      "127.0.0.1 - - [25/Oct/2017 11:20:19] \"POST /classify HTTP/1.1\" 200 -\n",
      "127.0.0.1 - - [25/Oct/2017 11:20:19] \"GET /classifier HTTP/1.1\" 404 -\n",
      "127.0.0.1 - - [25/Oct/2017 11:20:19] \"GET /classifier_labels HTTP/1.1\" 200 -\n",
      "127.0.0.1 - - [25/Oct/2017 11:20:19] \"POST /classify HTTP/1.1\" 200 -\n"
     ]
    }
   ],
   "source": [
    "SmqtkClassifierService(json_config=config).run()"
   ]
  }
 ],
 "metadata": {
  "anaconda-cloud": {},
  "kernelspec": {
   "display_name": "Python [default]",
   "language": "python",
   "name": "python2"
  },
  "language_info": {
   "codemirror_mode": {
    "name": "ipython",
    "version": 2
   },
   "file_extension": ".py",
   "mimetype": "text/x-python",
   "name": "python",
   "nbconvert_exporter": "python",
   "pygments_lexer": "ipython2",
   "version": "2.7.12"
  }
 },
 "nbformat": 4,
 "nbformat_minor": 1
}
